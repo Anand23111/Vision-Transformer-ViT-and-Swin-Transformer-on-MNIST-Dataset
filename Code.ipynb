{
  "nbformat": 4,
  "nbformat_minor": 0,
  "metadata": {
    "colab": {
      "provenance": []
    },
    "kernelspec": {
      "name": "python3",
      "display_name": "Python 3"
    },
    "language_info": {
      "name": "python"
    }
  },
  "cells": [
    {
      "cell_type": "code",
      "source": [
        "import torch\n",
        "import torch.nn as nn\n",
        "import torch.optim as optim\n",
        "from torchvision import datasets, transforms\n",
        "from torch.utils.data import DataLoader, Subset\n",
        "import numpy as np\n",
        "import random\n",
        "from sklearn.metrics import confusion_matrix, accuracy_score\n",
        "import seaborn as sns\n",
        "import matplotlib.pyplot as plt\n",
        "\n",
        "# Set random seed for reproducibility\n",
        "random.seed(42)\n",
        "torch.manual_seed(42)\n",
        "\n",
        "# Hyperparameters\n",
        "img_size = 28\n",
        "patch_size = 7\n",
        "num_classes = 3  # 3 selected classes from MNIST\n",
        "embed_dim = 64\n",
        "num_heads = 4\n",
        "mlp_dim = 128\n",
        "depth = 2\n",
        "batch_size = 64\n",
        "num_epochs = 10\n",
        "learning_rate = 0.001\n",
        "\n",
        "# Define transformations\n",
        "transform = transforms.Compose([\n",
        "    transforms.Resize((img_size, img_size)),\n",
        "    transforms.ToTensor(),\n",
        "])\n",
        "\n",
        "# Load MNIST dataset\n",
        "train_dataset = datasets.MNIST(root='./data', train=True, transform=transform, download=True)\n",
        "test_dataset = datasets.MNIST(root='./data', train=False, transform=transform, download=True)\n",
        "\n",
        "# Select 3 classes (e.g., 0, 1, and 2)\n",
        "selected_classes = [0, 1, 2]\n",
        "\n",
        "def sample_class(dataset, classes, num_samples_per_class):\n",
        "    \"\"\"Randomly sample `num_samples_per_class` images from each class in `classes`.\"\"\"\n",
        "    indices = []\n",
        "    for target_class in classes:\n",
        "        class_indices = [i for i, (_, label) in enumerate(dataset) if label == target_class]\n",
        "        sampled_indices = random.sample(class_indices, num_samples_per_class)\n",
        "        indices.extend(sampled_indices)\n",
        "    return indices\n",
        "\n",
        "# Sample 100 images from each of the 3 classes for train and test sets\n",
        "train_indices = sample_class(train_dataset, selected_classes, 100)\n",
        "test_indices = sample_class(test_dataset, selected_classes, 100)\n",
        "\n",
        "# Subset datasets\n",
        "train_subset = Subset(train_dataset, train_indices)\n",
        "test_subset = Subset(test_dataset, test_indices)\n",
        "\n",
        "# Create data loaders\n",
        "train_loader = DataLoader(train_subset, batch_size=batch_size, shuffle=True)\n",
        "test_loader = DataLoader(test_subset, batch_size=batch_size, shuffle=False)\n",
        "\n",
        "# Define Patch Embedding using Linear layer\n",
        "class PatchEmbedding(nn.Module):\n",
        "    def __init__(self, img_size, patch_size, embed_dim):\n",
        "        super(PatchEmbedding, self).__init__()\n",
        "        self.patch_size = patch_size\n",
        "        num_patches = (img_size // patch_size) ** 2\n",
        "        self.proj = nn.Linear(patch_size * patch_size, embed_dim)\n",
        "\n",
        "    def forward(self, x):\n",
        "        B, C, H, W = x.shape\n",
        "        x = x.view(B, C, H // self.patch_size, self.patch_size, W // self.patch_size, self.patch_size)\n",
        "        x = x.permute(0, 2, 4, 1, 3, 5)\n",
        "        x = x.reshape(B, -1, self.patch_size * self.patch_size)\n",
        "        x = self.proj(x)\n",
        "        return x\n",
        "\n",
        "# Define Transformer Encoder Block\n",
        "class TransformerEncoderBlock(nn.Module):\n",
        "    def __init__(self, embed_dim, num_heads, mlp_dim, dropout=0.1):\n",
        "        super(TransformerEncoderBlock, self).__init__()\n",
        "        self.norm1 = nn.LayerNorm(embed_dim)\n",
        "        self.mhsa = nn.MultiheadAttention(embed_dim, num_heads, dropout=dropout)\n",
        "        self.dropout1 = nn.Dropout(dropout)\n",
        "\n",
        "        self.norm2 = nn.LayerNorm(embed_dim)\n",
        "        self.mlp = nn.Sequential(\n",
        "            nn.Linear(embed_dim, mlp_dim),\n",
        "            nn.GELU(),\n",
        "            nn.Linear(mlp_dim, embed_dim),\n",
        "            nn.Dropout(dropout),\n",
        "        )\n",
        "        self.dropout2 = nn.Dropout(dropout)\n",
        "\n",
        "    def forward(self, x):\n",
        "        x = x.permute(1, 0, 2)  # For compatibility with MultiheadAttention\n",
        "        attn_output, _ = self.mhsa(x, x, x)\n",
        "        x = x + self.dropout1(attn_output)\n",
        "        x = x + self.dropout2(self.mlp(self.norm2(x)))\n",
        "        return x.permute(1, 0, 2)\n",
        "\n",
        "# Define Vision Transformer (ViT) Model\n",
        "class VisionTransformer(nn.Module):\n",
        "    def __init__(self, img_size=28, patch_size=7, num_classes=3, embed_dim=64, depth=2, num_heads=4, mlp_dim=128):\n",
        "        super(VisionTransformer, self).__init__()\n",
        "        self.patch_embedding = PatchEmbedding(img_size, patch_size, embed_dim)\n",
        "        num_patches = (img_size // patch_size) ** 2\n",
        "\n",
        "        self.pos_embedding = nn.Parameter(torch.randn(1, num_patches + 1, embed_dim))\n",
        "        self.cls_token = nn.Parameter(torch.randn(1, 1, embed_dim))\n",
        "        self.dropout = nn.Dropout(0.1)\n",
        "\n",
        "        self.encoder = nn.ModuleList([\n",
        "            TransformerEncoderBlock(embed_dim, num_heads, mlp_dim)\n",
        "            for _ in range(depth)\n",
        "        ])\n",
        "\n",
        "        self.mlp_head = nn.Sequential(\n",
        "            nn.LayerNorm(embed_dim),\n",
        "            nn.Linear(embed_dim, num_classes)\n",
        "        )\n",
        "\n",
        "    def forward(self, x):\n",
        "        x = self.patch_embedding(x)\n",
        "        batch_size = x.shape[0]\n",
        "        cls_tokens = self.cls_token.expand(batch_size, -1, -1)\n",
        "        x = torch.cat((cls_tokens, x), dim=1)\n",
        "        x += self.pos_embedding\n",
        "        x = self.dropout(x)\n",
        "\n",
        "        for encoder_block in self.encoder:\n",
        "            x = encoder_block(x)\n",
        "\n",
        "        x = self.mlp_head(x[:, 0])\n",
        "        return x\n",
        "\n",
        "# Training the Vision Transformer\n",
        "device = torch.device('cuda' if torch.cuda.is_available() else 'cpu')\n",
        "vit = VisionTransformer(embed_dim=embed_dim).to(device)\n",
        "\n",
        "criterion = nn.CrossEntropyLoss()\n",
        "optimizer = optim.Adam(vit.parameters(), lr=learning_rate)\n",
        "\n",
        "# Training Loop\n",
        "for epoch in range(num_epochs):\n",
        "    vit.train()\n",
        "    total_loss = 0\n",
        "    for images, labels in train_loader:\n",
        "        images, labels = images.to(device), labels.to(device)\n",
        "\n",
        "        optimizer.zero_grad()\n",
        "        outputs = vit(images)\n",
        "        loss = criterion(outputs, labels)\n",
        "        loss.backward()\n",
        "        optimizer.step()\n",
        "        total_loss += loss.item()\n",
        "\n",
        "    print(f'Epoch [{epoch+1}/{num_epochs}], Loss: {total_loss/len(train_loader):.4f}')\n",
        "\n",
        "# Evaluate Model\n",
        "vit.eval()\n",
        "all_preds, all_labels = [], []\n",
        "\n",
        "with torch.no_grad():\n",
        "    for images, labels in test_loader:\n",
        "        images, labels = images.to(device), labels.to(device)\n",
        "        outputs = vit(images)\n",
        "        _, predicted = torch.max(outputs, 1)\n",
        "        all_preds.extend(predicted.cpu().numpy())\n",
        "        all_labels.extend(labels.cpu().numpy())\n",
        "\n",
        "# Compute Accuracy\n",
        "accuracy = accuracy_score(all_labels, all_preds)\n",
        "print(f'Test Accuracy: {accuracy:.2f}%')\n",
        "\n",
        "# Confusion Matrix\n",
        "conf_matrix = confusion_matrix(all_labels, all_preds)\n",
        "plt.figure(figsize=(8, 6))\n",
        "sns.heatmap(conf_matrix, annot=True, fmt='d', cmap='Blues', xticklabels=selected_classes, yticklabels=selected_classes)\n",
        "plt.xlabel('Predicted')\n",
        "plt.ylabel('True')\n",
        "plt.title('Confusion Matrix')\n",
        "plt.show()\n"
      ],
      "metadata": {
        "colab": {
          "base_uri": "https://localhost:8080/",
          "height": 755
        },
        "id": "V5R-2tW_wBpS",
        "outputId": "858e962c-28ab-49c1-8856-9c6e16bd9a5d"
      },
      "execution_count": null,
      "outputs": [
        {
          "output_type": "stream",
          "name": "stdout",
          "text": [
            "Epoch [1/10], Loss: 1.1087\n",
            "Epoch [2/10], Loss: 1.0522\n",
            "Epoch [3/10], Loss: 0.9067\n",
            "Epoch [4/10], Loss: 0.7284\n",
            "Epoch [5/10], Loss: 0.5874\n",
            "Epoch [6/10], Loss: 0.5668\n",
            "Epoch [7/10], Loss: 0.4100\n",
            "Epoch [8/10], Loss: 0.3090\n",
            "Epoch [9/10], Loss: 0.2283\n",
            "Epoch [10/10], Loss: 0.1945\n",
            "Test Accuracy: 0.91%\n"
          ]
        },
        {
          "output_type": "display_data",
          "data": {
            "text/plain": [
              "<Figure size 800x600 with 2 Axes>"
            ],
            "image/png": "[encoded data removed]"
          },
          "metadata": {}
        }
      ]
    },
    {
      "cell_type": "markdown",
      "source": [
        "**Q1-PART1**"
      ],
      "metadata": {
        "id": "5rIVIGLRUXWy"
      }
    },
    {
      "cell_type": "code",
      "source": [
        "import torch\n",
        "from torch.utils.data import DataLoader, Subset\n",
        "from torchvision import datasets, transforms\n",
        "import random\n",
        "\n",
        "# Configuration\n",
        "batch_size = 32\n",
        "selected_classes = [0, 1, 2]\n",
        "num_samples_per_class = 100\n",
        "\n",
        "# Function to sample classes\n",
        "def sample_class(dataset, selected_classes, num_samples_per_class):\n",
        "    indices = []\n",
        "    for cls in selected_classes:\n",
        "        class_indices = [i for i, (_, label) in enumerate(dataset) if label == cls]\n",
        "        sampled_indices = random.sample(class_indices, num_samples_per_class)\n",
        "        indices.extend(sampled_indices)\n",
        "    return indices\n",
        "\n",
        "# Load MNIST dataset with RGB conversion\n",
        "transform = transforms.Compose([\n",
        "    transforms.Resize((224, 224)),  # Resize to match input size\n",
        "    transforms.Grayscale(num_output_channels=3),  # Convert grayscale to RGB\n",
        "    transforms.ToTensor()\n",
        "])\n",
        "\n",
        "train_dataset = datasets.MNIST(root=\"./data\", train=True, transform=transform, download=True)\n",
        "test_dataset = datasets.MNIST(root=\"./data\", train=False, transform=transform, download=True)\n",
        "\n",
        "# Sample images for ViT\n",
        "train_indices_vit = sample_class(train_dataset, selected_classes, num_samples_per_class)\n",
        "test_indices_vit = sample_class(test_dataset, selected_classes, num_samples_per_class)\n",
        "\n",
        "train_subset_vit = Subset(train_dataset, train_indices_vit)\n",
        "test_subset_vit = Subset(test_dataset, test_indices_vit)\n",
        "\n",
        "train_loader_vit = DataLoader(train_subset_vit, batch_size=batch_size, shuffle=True)\n",
        "test_loader_vit = DataLoader(test_subset_vit, batch_size=batch_size, shuffle=False)\n",
        "\n",
        "# Sample images for Swin Transformer (different samples)\n",
        "train_indices_swin = sample_class(train_dataset, selected_classes, num_samples_per_class)\n",
        "test_indices_swin = sample_class(test_dataset, selected_classes, num_samples_per_class)\n",
        "\n",
        "train_subset_swin = Subset(train_dataset, train_indices_swin)\n",
        "test_subset_swin = Subset(test_dataset, test_indices_swin)\n",
        "\n",
        "train_loader_swin = DataLoader(train_subset_swin, batch_size=batch_size, shuffle=True)\n",
        "test_loader_swin = DataLoader(test_subset_swin, batch_size=batch_size, shuffle=False)\n"
      ],
      "metadata": {
        "id": "c5dFFW7m9tAd"
      },
      "execution_count": null,
      "outputs": []
    },
    {
      "cell_type": "code",
      "source": [
        "from transformers import ViTForImageClassification\n",
        "import torch.optim as optim\n",
        "import torch.nn as nn\n",
        "\n",
        "# Configuration\n",
        "learning_rate = 1e-4\n",
        "num_epochs = 10\n",
        "num_classes = 3\n",
        "\n",
        "# Load ViT Model\n",
        "vit_model = ViTForImageClassification.from_pretrained(\n",
        "    'google/vit-base-patch16-224-in21k',\n",
        "    num_labels=num_classes,\n",
        "    ignore_mismatched_sizes=True\n",
        ")\n",
        "vit_model.to(device)\n",
        "\n",
        "# Optimizer for ViT\n",
        "optimizer_vit = optim.Adam(vit_model.parameters(), lr=learning_rate)\n",
        "\n",
        "# Train ViT Model\n",
        "vit_model.train()\n",
        "for epoch in range(num_epochs):\n",
        "    total_loss = 0\n",
        "    for images, labels in train_loader_vit:\n",
        "        images, labels = images.to(device), labels.to(device)\n",
        "\n",
        "        outputs = vit_model(images).logits\n",
        "        loss = nn.CrossEntropyLoss()(outputs, labels)\n",
        "\n",
        "        optimizer_vit.zero_grad()\n",
        "        loss.backward()\n",
        "        optimizer_vit.step()\n",
        "        total_loss += loss.item()\n",
        "\n",
        "    print(f\"ViT Epoch [{epoch+1}/{num_epochs}], Loss: {total_loss/len(train_loader_vit):.4f}\")\n",
        "\n",
        "# Evaluate the ViT Model\n",
        "vit_model.eval()\n",
        "correct = 0\n",
        "total = 0\n",
        "all_preds = []\n",
        "all_labels = []\n",
        "\n",
        "with torch.no_grad():\n",
        "    for images, labels in test_loader_vit:\n",
        "        images, labels = images.to(device), labels.to(device)\n",
        "        outputs = vit_model(images).logits\n",
        "        _, predicted = torch.max(outputs, 1)\n",
        "        total += labels.size(0)\n",
        "        correct += (predicted == labels).sum().item()\n",
        "        all_preds.extend(predicted.cpu().numpy())\n",
        "        all_labels.extend(labels.cpu().numpy())\n",
        "\n",
        "accuracy = correct / total * 100\n",
        "print(f'Accuracy of the ViT model on the test set: {accuracy:.2f}%')\n",
        "\n",
        "# Confusion matrix\n",
        "from sklearn.metrics import confusion_matrix\n",
        "import seaborn as sns\n",
        "import matplotlib.pyplot as plt\n",
        "\n",
        "cm = confusion_matrix(all_labels, all_preds)\n",
        "sns.heatmap(cm, annot=True, fmt='d', cmap='Blues')\n",
        "plt.xlabel('Predicted')\n",
        "plt.ylabel('True')\n",
        "plt.title('Confusion Matrix for ViT Model')\n",
        "plt.show()\n"
      ],
      "metadata": {
        "colab": {
          "base_uri": "https://localhost:8080/",
          "height": 718
        },
        "id": "abMg3kSX9vMh",
        "outputId": "b5dae412-1f04-406a-a4db-71388607a2c0"
      },
      "execution_count": null,
      "outputs": [
        {
          "output_type": "stream",
          "name": "stderr",
          "text": [
            "Some weights of ViTForImageClassification were not initialized from the model checkpoint at google/vit-base-patch16-224-in21k and are newly initialized: ['classifier.bias', 'classifier.weight']\n",
            "You should probably TRAIN this model on a down-stream task to be able to use it for predictions and inference.\n"
          ]
        },
        {
          "output_type": "stream",
          "name": "stdout",
          "text": [
            "ViT Epoch [1/10], Loss: 0.7222\n",
            "ViT Epoch [2/10], Loss: 0.1959\n",
            "ViT Epoch [3/10], Loss: 0.0965\n",
            "ViT Epoch [4/10], Loss: 0.0557\n",
            "ViT Epoch [5/10], Loss: 0.0403\n",
            "ViT Epoch [6/10], Loss: 0.0334\n",
            "ViT Epoch [7/10], Loss: 0.0291\n",
            "ViT Epoch [8/10], Loss: 0.0262\n",
            "ViT Epoch [9/10], Loss: 0.0239\n",
            "ViT Epoch [10/10], Loss: 0.0220\n",
            "Accuracy of the ViT model on the test set: 99.67%\n"
          ]
        },
        {
          "output_type": "display_data",
          "data": {
            "text/plain": [
              "<Figure size 640x480 with 2 Axes>"
            ],
            "image/png": "[encoded data removed]"
          },
          "metadata": {}
        }
      ]
    },
    {
      "cell_type": "code",
      "source": [
        "from transformers import SwinForImageClassification\n",
        "from torch.nn import KLDivLoss\n",
        "\n",
        "# Load Swin Transformer model\n",
        "swin_model = SwinForImageClassification.from_pretrained(\n",
        "    'microsoft/swin-tiny-patch4-window7-224',\n",
        "    num_labels=num_classes,\n",
        "    ignore_mismatched_sizes=True\n",
        ")\n",
        "swin_model.to(device)\n",
        "\n",
        "# Optimizer for Swin Transformer\n",
        "optimizer_swin = optim.Adam(swin_model.parameters(), lr=learning_rate)\n",
        "distillation_criterion = KLDivLoss(reduction='batchmean')\n",
        "\n",
        "# Train Swin Transformer with KL Distillation Loss\n",
        "for epoch in range(num_epochs):\n",
        "    swin_model.train()\n",
        "    total_loss = 0\n",
        "    for images, _ in train_loader_swin:\n",
        "        images = images.to(device)\n",
        "\n",
        "        with torch.no_grad():\n",
        "            vit_outputs = vit_model(images).logits  # Get logits from the ViT model\n",
        "\n",
        "        swin_outputs = swin_model(images).logits  # Get logits directly from the Swin model\n",
        "        loss = distillation_criterion(\n",
        "            nn.functional.log_softmax(swin_outputs / temperature, dim=1),\n",
        "            nn.functional.softmax(vit_outputs / temperature, dim=1)\n",
        "        )\n",
        "        optimizer_swin.zero_grad()\n",
        "        loss.backward()\n",
        "        optimizer_swin.step()\n",
        "        total_loss += loss.item()\n",
        "\n",
        "    print(f'Swin Transformer Epoch [{epoch+1}/{num_epochs}], Loss: {total_loss/len(train_loader_swin):.4f}')\n",
        "\n",
        "# Evaluate the Swin Transformer\n",
        "swin_model.eval()\n",
        "correct = 0\n",
        "total = 0\n",
        "all_preds = []\n",
        "all_labels = []\n",
        "\n",
        "with torch.no_grad():\n",
        "    for images, labels in test_loader_swin:\n",
        "        images, labels = images.to(device), labels.to(device)\n",
        "        outputs = swin_model(images).logits\n",
        "        _, predicted = torch.max(outputs, 1)\n",
        "        total += labels.size(0)\n",
        "        correct += (predicted == labels).sum().item()\n",
        "        all_preds.extend(predicted.cpu().numpy())\n",
        "        all_labels.extend(labels.cpu().numpy())\n",
        "\n",
        "accuracy = correct / total * 100\n",
        "print(f'Accuracy of the Swin Transformer on the test set: {accuracy:.2f}%')\n",
        "\n",
        "# Confusion matrix\n",
        "cm = confusion_matrix(all_labels, all_preds)\n",
        "sns.heatmap(cm, annot=True, fmt='d', cmap='Blues')\n",
        "plt.xlabel('Predicted')\n",
        "plt.ylabel('True')\n",
        "plt.title('Confusion Matrix for Swin Transformer')\n",
        "plt.show()\n"
      ],
      "metadata": {
        "colab": {
          "base_uri": "https://localhost:8080/",
          "height": 752
        },
        "id": "SST1FP369x6L",
        "outputId": "ddf4855b-5c8b-439e-e58d-f992c536144b"
      },
      "execution_count": null,
      "outputs": [
        {
          "output_type": "stream",
          "name": "stderr",
          "text": [
            "Some weights of SwinForImageClassification were not initialized from the model checkpoint at microsoft/swin-tiny-patch4-window7-224 and are newly initialized because the shapes did not match:\n",
            "- classifier.bias: found shape torch.Size([1000]) in the checkpoint and torch.Size([3]) in the model instantiated\n",
            "- classifier.weight: found shape torch.Size([1000, 768]) in the checkpoint and torch.Size([3, 768]) in the model instantiated\n",
            "You should probably TRAIN this model on a down-stream task to be able to use it for predictions and inference.\n"
          ]
        },
        {
          "output_type": "stream",
          "name": "stdout",
          "text": [
            "Swin Transformer Epoch [1/10], Loss: 0.0745\n",
            "Swin Transformer Epoch [2/10], Loss: 0.0129\n",
            "Swin Transformer Epoch [3/10], Loss: 0.0067\n",
            "Swin Transformer Epoch [4/10], Loss: 0.0028\n",
            "Swin Transformer Epoch [5/10], Loss: 0.0029\n",
            "Swin Transformer Epoch [6/10], Loss: 0.0014\n",
            "Swin Transformer Epoch [7/10], Loss: 0.0009\n",
            "Swin Transformer Epoch [8/10], Loss: 0.0006\n",
            "Swin Transformer Epoch [9/10], Loss: 0.0007\n",
            "Swin Transformer Epoch [10/10], Loss: 0.0006\n",
            "Accuracy of the Swin Transformer on the test set: 100.00%\n"
          ]
        },
        {
          "output_type": "display_data",
          "data": {
            "text/plain": [
              "<Figure size 640x480 with 2 Axes>"
            ],
            "image/png": "[encoded data removed]"
          },
          "metadata": {}
        }
      ]
    },
    {
      "cell_type": "code",
      "source": [
        "from torchvision import transforms\n",
        "from torch.utils.data import DataLoader, Subset\n",
        "\n",
        "# Define augmentation transforms\n",
        "augmentation_transforms = transforms.Compose([\n",
        "    transforms.RandomRotation(10),\n",
        "    transforms.RandomHorizontalFlip(),\n",
        "    transforms.RandomAffine(5),\n",
        "    transforms.Resize((224, 224)),  # Resize to match the input size of ViT\n",
        "    transforms.Grayscale(num_output_channels=3),  # Ensure the images are RGB\n",
        "    transforms.ToTensor()\n",
        "])\n",
        "\n",
        "# Apply augmentation to datasets\n",
        "train_dataset_augmented = datasets.MNIST(root=\"./data\", train=True, transform=augmentation_transforms, download=True)\n",
        "train_subset_augmented = Subset(train_dataset_augmented, train_indices_vit)\n",
        "train_loader_augmented = DataLoader(train_subset_augmented, batch_size=batch_size, shuffle=True)\n",
        "\n",
        "# Retrain the ViT model with augmented data\n",
        "vit_model.train()\n",
        "for epoch in range(num_epochs):\n",
        "    total_loss = 0\n",
        "    for images, labels in train_loader_augmented:\n",
        "        images, labels = images.to(device), labels.to(device)\n",
        "\n",
        "        outputs = vit_model(images).logits\n",
        "        loss = nn.CrossEntropyLoss()(outputs, labels)\n",
        "\n",
        "        optimizer_vit.zero_grad()\n",
        "        loss.backward()\n",
        "        optimizer_vit.step()\n",
        "        total_loss += loss.item()\n",
        "\n",
        "    print(f\"Augmented ViT Epoch [{epoch+1}/{num_epochs}], Loss: {total_loss/len(train_loader_augmented):.4f}\")\n"
      ],
      "metadata": {
        "colab": {
          "base_uri": "https://localhost:8080/"
        },
        "id": "D2oWqBK993Oy",
        "outputId": "89443310-3aa4-4629-d52f-3d0043b0314d"
      },
      "execution_count": null,
      "outputs": [
        {
          "output_type": "stream",
          "name": "stdout",
          "text": [
            "Augmented ViT Epoch [1/10], Loss: 0.0258\n",
            "Augmented ViT Epoch [2/10], Loss: 0.1512\n",
            "Augmented ViT Epoch [3/10], Loss: 0.0736\n",
            "Augmented ViT Epoch [4/10], Loss: 0.0492\n",
            "Augmented ViT Epoch [5/10], Loss: 0.0699\n",
            "Augmented ViT Epoch [6/10], Loss: 0.0353\n",
            "Augmented ViT Epoch [7/10], Loss: 0.0220\n",
            "Augmented ViT Epoch [8/10], Loss: 0.0164\n",
            "Augmented ViT Epoch [9/10], Loss: 0.0140\n",
            "Augmented ViT Epoch [10/10], Loss: 0.0143\n"
          ]
        }
      ]
    },
    {
      "cell_type": "code",
      "source": [
        "import torch\n",
        "import torch.nn as nn\n",
        "import torch.optim as optim\n",
        "from torchvision import datasets, transforms\n",
        "from torch.utils.data import DataLoader\n",
        "from tqdm import tqdm\n",
        "from einops import rearrange\n",
        "\n",
        "# Define the InfoNCE Loss function\n",
        "def info_nce_loss(features, temperature=0.1):\n",
        "    b = features.size(0)\n",
        "    labels = torch.cat([torch.arange(b // 2) for _ in range(2)], dim=0)\n",
        "    labels = (labels.unsqueeze(0) == labels.unsqueeze(1)).float().to(features.device)\n",
        "    features = nn.functional.normalize(features, dim=1)\n",
        "    similarity_matrix = torch.matmul(features, features.T)\n",
        "\n",
        "    mask = torch.eye(labels.shape[0], dtype=torch.bool).to(features.device)\n",
        "    labels = labels[~mask].view(labels.shape[0], -1)\n",
        "    similarity_matrix = similarity_matrix[~mask].view(similarity_matrix.shape[0], -1)\n",
        "\n",
        "    positives = similarity_matrix[labels.bool()].view(labels.shape[0], -1)\n",
        "    negatives = similarity_matrix[~labels.bool()].view(labels.shape[0], -1)\n",
        "\n",
        "    logits = torch.cat([positives, negatives], dim=1)\n",
        "    labels = torch.zeros(logits.shape[0], dtype=torch.long).to(features.device)\n",
        "    logits = logits / temperature\n",
        "    return nn.CrossEntropyLoss()(logits, labels)\n",
        "\n",
        "# Define Patch Embedding class\n",
        "class PatchEmbedding(nn.Module):\n",
        "    def __init__(self, img_size, patch_size, embed_dim):\n",
        "        super(PatchEmbedding, self).__init__()\n",
        "        self.patch_size = patch_size\n",
        "        num_patches = (img_size // patch_size) ** 2\n",
        "        self.proj = nn.Linear(patch_size * patch_size, embed_dim)\n",
        "\n",
        "    def forward(self, x):\n",
        "        B, C, H, W = x.shape  # Batch size, Channels, Height, Width\n",
        "        x = x.view(B, C, H // self.patch_size, self.patch_size, W // self.patch_size, self.patch_size)\n",
        "        x = x.permute(0, 2, 4, 1, 3, 5)  # Rearrange to (B, H//p, W//p, C, p, p)\n",
        "        x = x.reshape(B, -1, self.patch_size * self.patch_size)  # Flatten patches\n",
        "        x = self.proj(x)  # Apply linear projection\n",
        "        return x\n",
        "\n",
        "# Define Multi-Head Self-Attention class\n",
        "class MultiHeadSelfAttention(nn.Module):\n",
        "    def __init__(self, embed_dim, num_heads):\n",
        "        super(MultiHeadSelfAttention, self).__init__()\n",
        "        assert embed_dim % num_heads == 0, \"Embedding dimension must be divisible by the number of heads.\"\n",
        "        self.num_heads = num_heads\n",
        "        self.head_dim = embed_dim // num_heads\n",
        "\n",
        "        self.query = nn.Linear(embed_dim, embed_dim)\n",
        "        self.key = nn.Linear(embed_dim, embed_dim)\n",
        "        self.value = nn.Linear(embed_dim, embed_dim)\n",
        "        self.out = nn.Linear(embed_dim, embed_dim)\n",
        "\n",
        "    def forward(self, x):\n",
        "        B, N, C = x.shape\n",
        "        q = self.query(x).view(B, N, self.num_heads, self.head_dim)\n",
        "        k = self.key(x).view(B, N, self.num_heads, self.head_dim)\n",
        "        v = self.value(x).view(B, N, self.num_heads, self.head_dim)\n",
        "\n",
        "        q, k, v = map(lambda t: rearrange(t, 'b n h d -> b h n d'), (q, k, v))\n",
        "\n",
        "        attn = (q @ k.transpose(-2, -1)) * (self.head_dim ** -0.5)\n",
        "        attn = attn.softmax(dim=-1)\n",
        "\n",
        "        out = (attn @ v).transpose(1, 2).reshape(B, N, C)\n",
        "        out = self.out(out)\n",
        "        return out\n",
        "\n",
        "# Define Transformer Encoder Block class\n",
        "class TransformerEncoderBlock(nn.Module):\n",
        "    def __init__(self, embed_dim, num_heads, mlp_dim, dropout=0.2):  # Increased dropout\n",
        "        super(TransformerEncoderBlock, self).__init__()\n",
        "        self.norm1 = nn.LayerNorm(embed_dim)\n",
        "        self.mhsa = MultiHeadSelfAttention(embed_dim, num_heads)\n",
        "        self.dropout1 = nn.Dropout(dropout)\n",
        "\n",
        "        self.norm2 = nn.LayerNorm(embed_dim)\n",
        "        self.mlp = nn.Sequential(\n",
        "            nn.Linear(embed_dim, mlp_dim),\n",
        "            nn.GELU(),\n",
        "            nn.Linear(mlp_dim, embed_dim),\n",
        "            nn.Dropout(dropout),\n",
        "        )\n",
        "        self.dropout2 = nn.Dropout(dropout)\n",
        "\n",
        "    def forward(self, x):\n",
        "        x = x + self.dropout1(self.mhsa(self.norm1(x)))\n",
        "        x = x + self.dropout2(self.mlp(self.norm2(x)))\n",
        "        return x\n",
        "\n",
        "# Define Vision Transformer class\n",
        "class VisionTransformer(nn.Module):\n",
        "    def __init__(self, img_size=28, patch_size=7, num_classes=10, embed_dim=128, depth=4, num_heads=8, mlp_dim=256):  # Deeper model\n",
        "        super(VisionTransformer, self).__init__()\n",
        "        self.patch_embedding = PatchEmbedding(img_size, patch_size, embed_dim=embed_dim)\n",
        "        num_patches = (img_size // patch_size) ** 2\n",
        "\n",
        "        self.pos_embedding = nn.Parameter(torch.randn(1, num_patches + 1, embed_dim))\n",
        "        self.cls_token = nn.Parameter(torch.randn(1, 1, embed_dim))\n",
        "        self.dropout = nn.Dropout(0.1)\n",
        "\n",
        "        self.encoder = nn.ModuleList([\n",
        "            TransformerEncoderBlock(embed_dim, num_heads, mlp_dim)\n",
        "            for _ in range(depth)\n",
        "        ])\n",
        "\n",
        "        self.mlp_head = nn.Sequential(\n",
        "            nn.LayerNorm(embed_dim),\n",
        "            nn.Linear(embed_dim, num_classes)\n",
        "        )\n",
        "\n",
        "    def forward(self, x):\n",
        "        x = self.patch_embedding(x)\n",
        "        batch_size = x.shape[0]\n",
        "        cls_tokens = self.cls_token.expand(batch_size, -1, -1)\n",
        "        x = torch.cat((cls_tokens, x), dim=1)\n",
        "        x += self.pos_embedding\n",
        "        x = self.dropout(x)\n",
        "\n",
        "        for encoder_block in self.encoder:\n",
        "            x = encoder_block(x)\n",
        "\n",
        "        x = self.mlp_head(x[:, 0])\n",
        "        return x\n",
        "\n",
        "# Hyperparameters and settings\n",
        "img_size = 28\n",
        "patch_size = 7\n",
        "embed_dim = 128\n",
        "num_classes = 10\n",
        "batch_size = 128  # Increased batch size\n",
        "device = torch.device('cuda' if torch.cuda.is_available() else 'cpu')\n",
        "\n",
        "# Updated data augmentation\n",
        "transform = transforms.Compose([\n",
        "    transforms.Resize((img_size, img_size)),\n",
        "    transforms.RandomResizedCrop(img_size, scale=(0.8, 1.0)),\n",
        "    transforms.RandomApply([transforms.ColorJitter(0.4, 0.4, 0.4, 0.1)], p=0.8),\n",
        "    transforms.RandomGrayscale(p=0.2),\n",
        "    transforms.ToTensor(),\n",
        "])\n",
        "\n",
        "# Load MNIST dataset with updated transforms\n",
        "train_dataset = datasets.MNIST(root='./data', train=True, transform=transform, download=True)\n",
        "train_loader = DataLoader(train_dataset, batch_size=batch_size, shuffle=True)\n",
        "\n",
        "test_dataset = datasets.MNIST(root='./data', train=False, transform=transform, download=True)\n",
        "test_loader = DataLoader(test_dataset, batch_size=batch_size, shuffle=False)\n",
        "\n",
        "# Initialize Vision Transformer\n",
        "vit = VisionTransformer(img_size=img_size, patch_size=patch_size, num_classes=num_classes, embed_dim=embed_dim, depth=4, num_heads=4, mlp_dim=256).to(device)\n",
        "\n",
        "# Optimizer and Scheduler\n",
        "optimizer = optim.Adam(vit.parameters(), lr=1e-4, weight_decay=1e-4)\n",
        "scheduler = optim.lr_scheduler.StepLR(optimizer, step_size=10, gamma=0.1)\n",
        "\n",
        "# Training loop using InfoNCE Loss\n",
        "num_epochs = 20\n",
        "for epoch in range(num_epochs):\n",
        "    vit.train()\n",
        "    total_loss = 0.0\n",
        "    for images, _ in tqdm(train_loader, desc=f'Epoch {epoch+1}/{num_epochs}'):\n",
        "        images1 = transforms.functional.hflip(images)\n",
        "        images2 = transforms.functional.vflip(images)\n",
        "        images = torch.cat([images1, images2], dim=0).to(device)\n",
        "\n",
        "        optimizer.zero_grad()\n",
        "        features = vit(images)\n",
        "        loss = info_nce_loss(features)\n",
        "        loss.backward()\n",
        "        optimizer.step()\n",
        "\n",
        "        total_loss += loss.item()\n",
        "\n",
        "    scheduler.step()  # Adjust the learning rate\n",
        "    print(f'Epoch [{epoch+1}/{num_epochs}], Loss: {total_loss/len(train_loader):.4f}')\n",
        "\n",
        "# Evaluate the model\n",
        "def evaluate_model(model, dataloader):\n",
        "    model.eval()\n",
        "    correct = 0\n",
        "    total = 0\n",
        "\n",
        "    with torch.no_grad():\n",
        "        for images, labels in dataloader:\n",
        "            images, labels = images.to(device), labels.to(device)\n",
        "            outputs = model(images)\n",
        "            _, predicted = torch.max(outputs.data, 1)\n",
        "            total += labels.size(0)\n",
        "            correct += (predicted == labels).sum().item()\n",
        "\n",
        "    accuracy = correct / total * 100\n",
        "    return accuracy\n",
        "\n",
        "test_accuracy = evaluate_model(vit, test_loader)\n",
        "print(f'Test Accuracy: {test_accuracy:.2f}%')\n"
      ],
      "metadata": {
        "colab": {
          "base_uri": "https://localhost:8080/"
        },
        "id": "iUXG15DSucSj",
        "outputId": "2fcaf4f4-7a8d-44ae-860e-cd368d35572e"
      },
      "execution_count": 6,
      "outputs": [
        {
          "output_type": "stream",
          "name": "stderr",
          "text": [
            "Epoch 1/20: 100%|██████████| 469/469 [05:22<00:00,  1.46it/s]\n"
          ]
        },
        {
          "output_type": "stream",
          "name": "stdout",
          "text": [
            "Epoch [1/20], Loss: 4.1006\n"
          ]
        },
        {
          "output_type": "stream",
          "name": "stderr",
          "text": [
            "Epoch 2/20: 100%|██████████| 469/469 [05:20<00:00,  1.46it/s]\n"
          ]
        },
        {
          "output_type": "stream",
          "name": "stdout",
          "text": [
            "Epoch [2/20], Loss: 1.5541\n"
          ]
        },
        {
          "output_type": "stream",
          "name": "stderr",
          "text": [
            "Epoch 3/20: 100%|██████████| 469/469 [05:25<00:00,  1.44it/s]\n"
          ]
        },
        {
          "output_type": "stream",
          "name": "stdout",
          "text": [
            "Epoch [3/20], Loss: 1.0901\n"
          ]
        },
        {
          "output_type": "stream",
          "name": "stderr",
          "text": [
            "Epoch 4/20: 100%|██████████| 469/469 [05:20<00:00,  1.46it/s]\n"
          ]
        },
        {
          "output_type": "stream",
          "name": "stdout",
          "text": [
            "Epoch [4/20], Loss: 0.8767\n"
          ]
        },
        {
          "output_type": "stream",
          "name": "stderr",
          "text": [
            "Epoch 5/20: 100%|██████████| 469/469 [05:22<00:00,  1.46it/s]\n"
          ]
        },
        {
          "output_type": "stream",
          "name": "stdout",
          "text": [
            "Epoch [5/20], Loss: 0.7903\n"
          ]
        },
        {
          "output_type": "stream",
          "name": "stderr",
          "text": [
            "Epoch 6/20: 100%|██████████| 469/469 [05:19<00:00,  1.47it/s]\n"
          ]
        },
        {
          "output_type": "stream",
          "name": "stdout",
          "text": [
            "Epoch [6/20], Loss: 0.7007\n"
          ]
        },
        {
          "output_type": "stream",
          "name": "stderr",
          "text": [
            "Epoch 7/20: 100%|██████████| 469/469 [05:23<00:00,  1.45it/s]\n"
          ]
        },
        {
          "output_type": "stream",
          "name": "stdout",
          "text": [
            "Epoch [7/20], Loss: 0.6586\n"
          ]
        },
        {
          "output_type": "stream",
          "name": "stderr",
          "text": [
            "Epoch 8/20: 100%|██████████| 469/469 [05:21<00:00,  1.46it/s]\n"
          ]
        },
        {
          "output_type": "stream",
          "name": "stdout",
          "text": [
            "Epoch [8/20], Loss: 0.6350\n"
          ]
        },
        {
          "output_type": "stream",
          "name": "stderr",
          "text": [
            "Epoch 9/20: 100%|██████████| 469/469 [05:21<00:00,  1.46it/s]\n"
          ]
        },
        {
          "output_type": "stream",
          "name": "stdout",
          "text": [
            "Epoch [9/20], Loss: 0.6174\n"
          ]
        },
        {
          "output_type": "stream",
          "name": "stderr",
          "text": [
            "Epoch 10/20: 100%|██████████| 469/469 [05:20<00:00,  1.46it/s]\n"
          ]
        },
        {
          "output_type": "stream",
          "name": "stdout",
          "text": [
            "Epoch [10/20], Loss: 0.6020\n"
          ]
        },
        {
          "output_type": "stream",
          "name": "stderr",
          "text": [
            "Epoch 11/20: 100%|██████████| 469/469 [05:21<00:00,  1.46it/s]\n"
          ]
        },
        {
          "output_type": "stream",
          "name": "stdout",
          "text": [
            "Epoch [11/20], Loss: 0.5867\n"
          ]
        },
        {
          "output_type": "stream",
          "name": "stderr",
          "text": [
            "Epoch 12/20: 100%|██████████| 469/469 [05:21<00:00,  1.46it/s]\n"
          ]
        },
        {
          "output_type": "stream",
          "name": "stdout",
          "text": [
            "Epoch [12/20], Loss: 0.5852\n"
          ]
        },
        {
          "output_type": "stream",
          "name": "stderr",
          "text": [
            "Epoch 13/20: 100%|██████████| 469/469 [05:21<00:00,  1.46it/s]\n"
          ]
        },
        {
          "output_type": "stream",
          "name": "stdout",
          "text": [
            "Epoch [13/20], Loss: 0.5859\n"
          ]
        },
        {
          "output_type": "stream",
          "name": "stderr",
          "text": [
            "Epoch 14/20: 100%|██████████| 469/469 [05:20<00:00,  1.46it/s]\n"
          ]
        },
        {
          "output_type": "stream",
          "name": "stdout",
          "text": [
            "Epoch [14/20], Loss: 0.5828\n"
          ]
        },
        {
          "output_type": "stream",
          "name": "stderr",
          "text": [
            "Epoch 15/20: 100%|██████████| 469/469 [05:20<00:00,  1.46it/s]\n"
          ]
        },
        {
          "output_type": "stream",
          "name": "stdout",
          "text": [
            "Epoch [15/20], Loss: 0.5810\n"
          ]
        },
        {
          "output_type": "stream",
          "name": "stderr",
          "text": [
            "Epoch 16/20: 100%|██████████| 469/469 [05:20<00:00,  1.47it/s]\n"
          ]
        },
        {
          "output_type": "stream",
          "name": "stdout",
          "text": [
            "Epoch [16/20], Loss: 0.5781\n"
          ]
        },
        {
          "output_type": "stream",
          "name": "stderr",
          "text": [
            "Epoch 17/20: 100%|██████████| 469/469 [05:19<00:00,  1.47it/s]\n"
          ]
        },
        {
          "output_type": "stream",
          "name": "stdout",
          "text": [
            "Epoch [17/20], Loss: 0.5784\n"
          ]
        },
        {
          "output_type": "stream",
          "name": "stderr",
          "text": [
            "Epoch 18/20: 100%|██████████| 469/469 [05:20<00:00,  1.47it/s]\n"
          ]
        },
        {
          "output_type": "stream",
          "name": "stdout",
          "text": [
            "Epoch [18/20], Loss: 0.5779\n"
          ]
        },
        {
          "output_type": "stream",
          "name": "stderr",
          "text": [
            "Epoch 19/20: 100%|██████████| 469/469 [05:25<00:00,  1.44it/s]\n"
          ]
        },
        {
          "output_type": "stream",
          "name": "stdout",
          "text": [
            "Epoch [19/20], Loss: 0.5738\n"
          ]
        },
        {
          "output_type": "stream",
          "name": "stderr",
          "text": [
            "Epoch 20/20: 100%|██████████| 469/469 [05:20<00:00,  1.46it/s]\n"
          ]
        },
        {
          "output_type": "stream",
          "name": "stdout",
          "text": [
            "Epoch [20/20], Loss: 0.5752\n",
            "Test Accuracy: 9.90%\n"
          ]
        }
      ]
    },
    {
      "cell_type": "code",
      "source": [],
      "metadata": {
        "colab": {
          "base_uri": "https://localhost:8080/"
        },
        "id": "itpeW_0sI15I",
        "outputId": "8437c849-c674-4dc0-94fb-ab331f4f6b5c"
      },
      "execution_count": 7,
      "outputs": [
        {
          "output_type": "stream",
          "name": "stderr",
          "text": [
            "Epoch 1/5: 100%|██████████| 469/469 [05:33<00:00,  1.41it/s]\n"
          ]
        },
        {
          "output_type": "stream",
          "name": "stdout",
          "text": [
            "Epoch [1/5], Loss: 0.0543\n"
          ]
        },
        {
          "output_type": "stream",
          "name": "stderr",
          "text": [
            "Epoch 2/5: 100%|██████████| 469/469 [05:18<00:00,  1.47it/s]\n"
          ]
        },
        {
          "output_type": "stream",
          "name": "stdout",
          "text": [
            "Epoch [2/5], Loss: 0.0056\n"
          ]
        },
        {
          "output_type": "stream",
          "name": "stderr",
          "text": [
            "Epoch 3/5: 100%|██████████| 469/469 [05:20<00:00,  1.46it/s]\n"
          ]
        },
        {
          "output_type": "stream",
          "name": "stdout",
          "text": [
            "Epoch [3/5], Loss: 0.0024\n"
          ]
        },
        {
          "output_type": "stream",
          "name": "stderr",
          "text": [
            "Epoch 4/5: 100%|██████████| 469/469 [05:17<00:00,  1.48it/s]\n"
          ]
        },
        {
          "output_type": "stream",
          "name": "stdout",
          "text": [
            "Epoch [4/5], Loss: 0.0014\n"
          ]
        },
        {
          "output_type": "stream",
          "name": "stderr",
          "text": [
            "Epoch 5/5: 100%|██████████| 469/469 [05:17<00:00,  1.48it/s]\n"
          ]
        },
        {
          "output_type": "stream",
          "name": "stdout",
          "text": [
            "Epoch [5/5], Loss: 0.0009\n",
            "Test Accuracy: 9.58%\n"
          ]
        }
      ]
    }
  ]
}